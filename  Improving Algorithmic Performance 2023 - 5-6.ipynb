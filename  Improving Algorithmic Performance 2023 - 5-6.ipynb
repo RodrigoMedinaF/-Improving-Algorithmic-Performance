{
 "cells": [
  {
   "cell_type": "markdown",
   "id": "0ecea937",
   "metadata": {},
   "source": [
    "<br> \n",
    "\n",
    "## <Center>  Improving Algorithmic Performance</Center>  \n",
    "## <Center>  Performance Testing and Algorithm Optimization  </Center>  \n",
    "\n",
    "## <Center>  Rodrigo Medina </Center>  "
   ]
  },
  {
   "cell_type": "markdown",
   "id": "0c4d7fac",
   "metadata": {},
   "source": [
    "  <br>\n",
    "  <h1><left> Index  </Center>  </left>\n",
    "  <br>"
   ]
  },
  {
   "cell_type": "markdown",
   "id": "5ba82e5f",
   "metadata": {},
   "source": [
    "\n",
    " \n",
    "###     1. INTRODUCTION\n",
    "###     2. PROBLEM DEFINITION\n",
    "###     3. VARIABLE DEFINITIONS AND INTITIAL CONFIGURATIONS\n",
    "###     4. SOLUTION 1\n",
    "###     5. SOLUTION 2\n",
    "###     6. PERFORMANCE COMPARATION  \n",
    "#\n",
    "\n",
    " "
   ]
  },
  {
   "cell_type": "markdown",
   "id": "f6d6d3c3",
   "metadata": {},
   "source": [
    "<h2><center> 1. Introduction</center></h2>\n",
    "\n",
    "\n",
    "<left><b> The primary goal of this project is to illustrate the solution of a given problem through the use of two distinct algorithms, emphasizing the difference in performance between these two different solutions.This will highlight the significance of performance testing and algorithm tuning, emphasizing the necessity to build solutions that not only effectively solve problems but also prioritize efficiency in terms of time and resource utilization. </b></left>\n",
    "   <br> <br>\n",
    "   \n",
    "   "
   ]
  },
  {
   "cell_type": "markdown",
   "id": "a5071484",
   "metadata": {},
   "source": [
    "<h2><center>Results Highlights </center></h2>\n",
    "\n",
    "\n",
    "<left><b> The project will demonstrate how speed in computation time is reduced by 1500x to 2500x, when employing solution 2 compared to solution 1. This scenario highlights how an alternative approach, involving intricate mathematical reasoning can present a far more efficient solution to the approach of evaluating all possible scenarios.    </b></left>\n",
    "   <br> <br>\n",
    "   \n",
    "  "
   ]
  },
  {
   "cell_type": "markdown",
   "id": "40959b84",
   "metadata": {},
   "source": [
    "<br> <br>    \n",
    "<h2><center> 2. Problem Definition</center></h2>\n",
    "\n"
   ]
  },
  {
   "cell_type": "markdown",
   "id": "6034a601",
   "metadata": {},
   "source": [
    "  <p><left> Design a function that takes an array of integers, Array A, as input and generates two subarrays, Sub Array B and Sub Array C, such that the sum of Sub Array B and SubArray C´s elements,  exactly matches the elements in Array A. The function should return the Sub Array B with the shortest possible length and with the highest possible sum of its elements. The sum of elements of Sub Array B must be greater than the sum of elements of Sub Array C, and Sub Array B cannot have more elements than Sub Array C\n",
    "     </left><br>\n",
    "     \n",
    "     "
   ]
  },
  {
   "cell_type": "markdown",
   "id": "a6abc001",
   "metadata": {},
   "source": [
    "\n",
    " <p><left> Example: \n",
    "     </left> \n",
    "      <p><left><b> Array A =</b>  [5,2,4,6,1,3,14] , <b> Sub Array B = ? , <b> Sub Array C = ?\n",
    "     </left><br><br>    \n",
    "    \n",
    "               \n",
    "  <p><left>For lenght 1 of Sub Array B no instance of Subarray B meets the required conditions, for lenght 2 there are 3 instances when the sum of Sub Array B is greater than the Sum of Sub Array C and Sub Array B + Sub Array C = Array A:\n",
    "     </left><br>  \n",
    "      \n",
    "   <p><left>    \n",
    "      <b> Sub Array B = </b> [14,4] <b>, Sum  Array B =</b> 18, <b>Sub Array C =</b>  [5,2,6,1,3] <b>Sum Array C = </b> 17     </left><br> \n",
    "       \n",
    "   <p><left>    \n",
    "       <b> Sub Array B =</b> [14,5] <b>, Sum  Array B =</b> 19 , <b>Sub Array C =</b>  [6,2,4,1,3] <b>Sum Array C =</b>  16     </left><br>  \n",
    "              \n",
    "   <p><left>    \n",
    "       <b> Sub Array B =</b> [14,6] <b>, Sum  Array B =</b> 20 , <b>Sub Array C = </b> [5,2,4,1,3] <b>Sum Array C =</b>  15     </left><br> \n",
    "       <br>  \n",
    "                      \n",
    "  <p><left>Out of the 3 possible combinations [14,6],[14,5],[14,4]: <br> <br>  \n",
    "      <b> Sub Array B = [14,6] is the combination with the highest sum of its elements (20) and shortest lenght (2 elements), this should be the answer of the function</b>\n",
    "     </left><br>  "
   ]
  },
  {
   "cell_type": "markdown",
   "id": "b528e484",
   "metadata": {},
   "source": [
    "<br> <br>    \n",
    "<h2><center> 3. Variable Definitions and Initial Conficurations</center></h2>\n",
    "\n"
   ]
  },
  {
   "cell_type": "code",
   "execution_count": 40,
   "id": "8f23f952",
   "metadata": {},
   "outputs": [],
   "source": [
    "#Importing Required Packages\n",
    "import time\n",
    "import random"
   ]
  },
  {
   "cell_type": "markdown",
   "id": "0871bdf9",
   "metadata": {},
   "source": [
    "<p><left>    \n",
    "      <b> Simple arrays to test in functions </b>      </left><br> "
   ]
  },
  {
   "cell_type": "code",
   "execution_count": 41,
   "id": "41cdda57",
   "metadata": {},
   "outputs": [],
   "source": [
    "simple_array_1 = [5,2,4,6,1,3,12]\n",
    "simple_array_2 = [1,7,4,6,8,16,4,6]\n",
    "simple_array_3 = [15,22,14,56,31]\n"
   ]
  },
  {
   "cell_type": "markdown",
   "id": "70598c5d",
   "metadata": {},
   "source": [
    "<p><left>    \n",
    "      <b> Complex arrays to test in functions:<br><br> Generating 3 arrays with 30,000 , 35,000 and 40,000 elements, populated with random numbers from 1 to 1000 </b>      </left><br> "
   ]
  },
  {
   "cell_type": "code",
   "execution_count": 42,
   "id": "5dc3fc2a",
   "metadata": {},
   "outputs": [],
   "source": [
    "random_array = [random.randint(1, 1001) for _ in range(30000)]\n",
    "arr = random_array\n",
    "\n",
    "random_array2 = [random.randint(1, 1001) for _ in range(35000)]\n",
    "arr2 = random_array2\n",
    "\n",
    "random_array3 = [random.randint(1, 1001) for _ in range(50000)]\n",
    "arr3 = random_array3"
   ]
  },
  {
   "cell_type": "markdown",
   "id": "f1a094f1",
   "metadata": {},
   "source": [
    "<br> <br>    \n",
    "<h2><center> 4. Solution 1</center></h2>\n",
    "\n"
   ]
  },
  {
   "cell_type": "markdown",
   "id": "87e7a09a",
   "metadata": {},
   "source": [
    " <p><left> Solution One calculates the half lenght of Array A, which is ((n-1)/2) for the case of odd lenght of Array A and (n)/2) for the case of even lenght of Array A.\n",
    "     </left></p>\n",
    "     \n",
    "<p><left> Since Sub Array B should have less elements than Sub Array C , the function will evaluate all possible combinaitons of Sub Array B in lenghts from 1 to ((n-1)/2) or (n)/2), (Depending on odd or even lenght of Array A), if the lenght of Sub Array B was larger than ((n-1)/2) or (n)/2), then it would have more elements than Sub Array C and would not meet the intial conditions. All combinations of Sub Array A will be saved in array of arrays variable, then from that variable the array with the shortest lenght and highest sum will be choosen.\n",
    "     </left></p>\n",
    "\n",
    "<p><left>To ensure Sub Array A has the highest possible sum Array A will be sorted in Descending Order, and from that sorted form of Array A, Sub Array B and Sub Array C will be selected.\n",
    "     </left></p>   "
   ]
  },
  {
   "cell_type": "code",
   "execution_count": 43,
   "id": "5aab962e",
   "metadata": {},
   "outputs": [],
   "source": [
    "def min_lenght_2_arrays_version_1(arr):\n",
    "    start_time = time.time()\n",
    "    arr = sorted(arr, reverse=True)\n",
    "    n = len(arr)\n",
    "\n",
    "    if n % 2 == 1:\n",
    "        loop_data = []\n",
    "        for i in range((int((n-1)/2)),0,-1):\n",
    "            arr_subset_a = arr[:(i)]\n",
    "            arr_subset_b = arr[(i):]\n",
    "            sum_a = sum(arr_subset_a)\n",
    "            sum_b = sum(arr_subset_b)\n",
    "            \n",
    "            loop_data.append({\n",
    "                'sum_a': sum_a,\n",
    "                'sum_b': sum_b,\n",
    "                'arr_subset_a': arr_subset_a,\n",
    "                'arr_subset_b': arr_subset_b\n",
    "            })\n",
    "\n",
    "        higher_sum_a_data = [data for data in loop_data if data['sum_a'] > data['sum_b']]\n",
    "        result_data = min(higher_sum_a_data, key=lambda x: len(x['arr_subset_a']))\n",
    "        end_time = time.time()\n",
    "        run_time = end_time - start_time\n",
    "        if n > 10:\n",
    "            return \"Solution 1 -The minimum length array whose sum of elements is greater than the rest of the elements is:\", len(result_data['arr_subset_a']) , f\"Run time: {round(run_time, 6)} seconds\" ,\"The resulting array is saved in object arr_subset_a \"\n",
    "        \n",
    "        if n <= 10:\n",
    "            \n",
    "            return \"Solution 1 -The minimum length array whose sum of elements is greater than the rest of the elements is:\", len(result_data['arr_subset_a']) , f\"Run time: {round(run_time, 6)} seconds\" ,\"The resulting array is saved in object arr_subset_a \",\"Array A:\", arr, \"Sub Array B:\" , result_data['arr_subset_a'], \"Sub Array C:\" , result_data['arr_subset_b']\n",
    "        \n",
    "        \n",
    "    if n % 2 == 0:\n",
    "        loop_data = []\n",
    "        for i in range((int((n)/2)),0,-1):\n",
    "            arr_subset_a = arr[:(i)]\n",
    "            arr_subset_b = arr[(i):]\n",
    "            sum_a = sum(arr_subset_a)\n",
    "            sum_b = sum(arr_subset_b)\n",
    "            \n",
    "            loop_data.append({\n",
    "                'sum_a': sum_a,\n",
    "                'sum_b': sum_b,\n",
    "                'arr_subset_a': arr_subset_a,\n",
    "                'arr_subset_b': arr_subset_b\n",
    "            })\n",
    "\n",
    "        higher_sum_a_data = [data for data in loop_data if data['sum_a'] > data['sum_b']]\n",
    "        result_data = min(higher_sum_a_data, key=lambda x: len(x['arr_subset_a']))\n",
    "        end_time = time.time()\n",
    "        run_time = end_time - start_time\n",
    "        \n",
    "        if n > 10:\n",
    "            return \"Solution 1 -The minimum length array whose sum of elements is greater than the rest of the elements is:\", len(result_data['arr_subset_a']) , f\"Run time: {round(run_time, 6)} seconds\" ,\"The resulting array is saved in object arr_subset_a \"\n",
    "        \n",
    "        if n <= 10:\n",
    "            \n",
    "            return \"Solution 1 - The minimum length array whose sum of elements is greater than the rest of the elements is:\", len(result_data['arr_subset_a']) , f\"Run time: {round(run_time, 6)} seconds\" ,\"The resulting array is saved in object arr_subset_a \",\"Array A:\", arr, \"Sub Array B:\" , result_data['arr_subset_a'], \"Sub Array C:\" , result_data['arr_subset_b']\n",
    "        \n"
   ]
  },
  {
   "cell_type": "markdown",
   "id": "b0367403",
   "metadata": {},
   "source": [
    "<p><left>    \n",
    "      <b> Testing Solution 1 in Simple Cases </b>      </left><br> "
   ]
  },
  {
   "cell_type": "code",
   "execution_count": 44,
   "id": "81fd1c65",
   "metadata": {},
   "outputs": [
    {
     "name": "stdout",
     "output_type": "stream",
     "text": [
      "Example 1 -  Simple array with  7  elements\n",
      "\n",
      "('Solution 1 -The minimum length array whose sum of elements is greater than the rest of the elements is:', 2, 'Run time: 0.0 seconds', 'The resulting array is saved in object arr_subset_a ', 'Array A:', [12, 6, 5, 4, 3, 2, 1], 'Sub Array B:', [12, 6], 'Sub Array C:', [5, 4, 3, 2, 1])\n",
      "\n",
      "Example 2 -  Simple array with  8  elements\n",
      "\n",
      "('Solution 1 - The minimum length array whose sum of elements is greater than the rest of the elements is:', 3, 'Run time: 0.0 seconds', 'The resulting array is saved in object arr_subset_a ', 'Array A:', [16, 8, 7, 6, 6, 4, 4, 1], 'Sub Array B:', [16, 8, 7], 'Sub Array C:', [6, 6, 4, 4, 1])\n",
      "\n",
      "Example 3 -  Simple array with  5  elements\n",
      "\n",
      "('Solution 1 -The minimum length array whose sum of elements is greater than the rest of the elements is:', 2, 'Run time: 0.0 seconds', 'The resulting array is saved in object arr_subset_a ', 'Array A:', [56, 31, 22, 15, 14], 'Sub Array B:', [56, 31], 'Sub Array C:', [22, 15, 14])\n"
     ]
    }
   ],
   "source": [
    "print(\"Example 1 - \", \"Simple array with \" , len(simple_array_1) ,\" elements\")\n",
    "print(\"\")\n",
    "print(min_lenght_2_arrays_version_1(simple_array_1))\n",
    "print(\"\")\n",
    "print(\"Example 2 - \", \"Simple array with \" , len(simple_array_2) ,\" elements\")\n",
    "print(\"\")\n",
    "print(min_lenght_2_arrays_version_1(simple_array_2))\n",
    "print(\"\")\n",
    "print(\"Example 3 - \", \"Simple array with \" , len(simple_array_3) ,\" elements\")\n",
    "print(\"\")\n",
    "print(min_lenght_2_arrays_version_1(simple_array_3))\n"
   ]
  },
  {
   "cell_type": "markdown",
   "id": "fc61c319",
   "metadata": {},
   "source": [
    "<p><left><b> Testing Solution 1 in Complex Cases </b></left><br> "
   ]
  },
  {
   "cell_type": "code",
   "execution_count": 45,
   "id": "2363e744",
   "metadata": {},
   "outputs": [
    {
     "name": "stdout",
     "output_type": "stream",
     "text": [
      "Example 4 -  array with  30000  elements\n",
      "\n",
      "('Solution 1 -The minimum length array whose sum of elements is greater than the rest of the elements is:', 8820, 'Run time: 13.078528 seconds', 'The resulting array is saved in object arr_subset_a ')\n",
      "\n",
      "Example 5 -  array with  35000  elements\n",
      "\n",
      "('Solution 1 -The minimum length array whose sum of elements is greater than the rest of the elements is:', 10281, 'Run time: 17.646063 seconds', 'The resulting array is saved in object arr_subset_a ')\n",
      "Example 6 -  array with  50000  elements\n",
      "\n",
      "('Solution 1 -The minimum length array whose sum of elements is greater than the rest of the elements is:', 14622, 'Run time: 42.146186 seconds', 'The resulting array is saved in object arr_subset_a ')\n"
     ]
    }
   ],
   "source": [
    "print(\"Example 4 - \", \"array with \" , len(arr) ,\" elements\")\n",
    "print(\"\")\n",
    "print(min_lenght_2_arrays_version_1(arr))\n",
    "print(\"\")\n",
    "print(\"Example 5 - \", \"array with \" , len(arr2) ,\" elements\")\n",
    "print(\"\")\n",
    "print(min_lenght_2_arrays_version_1(arr2))\n",
    "print(\"Example 6 - \", \"array with \" , len(arr3) ,\" elements\")\n",
    "print(\"\")\n",
    "print(min_lenght_2_arrays_version_1(arr3))\n"
   ]
  },
  {
   "cell_type": "markdown",
   "id": "7fc30a42",
   "metadata": {},
   "source": [
    "<h3><left><b> Solution 1 Conclusion </b></left></h3>\n",
    "    \n",
    "<p><left> Solution 1 works correctly, however we can notice that as the number of elements in an Array A increases computation time increases significantly. Solutions in the complex cases take more than 20 seconds, and continue to increase non linearly as the number of elements increase\n",
    "     </left></p>\n",
    "     \n",
    "\n"
   ]
  },
  {
   "cell_type": "markdown",
   "id": "49918f9f",
   "metadata": {},
   "source": [
    "<br> <br>    \n",
    "<h2><center> 5. Solution 2</center></h2>\n",
    "\n"
   ]
  },
  {
   "cell_type": "markdown",
   "id": "d3bd3abb",
   "metadata": {},
   "source": [
    "  <p><left> If we sort Array A in descending order and we start adding elements to Sub Arrray B, we garantuee we are adding the highest value possible combinations for Sub Array B, we are also starting from the smallest possible lenght for Sub Array B, so if we continue this process until the point that Sub Array B is larger than Sub Array C we will find the shortest lenght possible array in which the sum of elements is greater than the sum of elements in Sub Array C.\n",
    "     </left><br>\n",
    "     \n",
    "  <p><left> The moment the Sum of Elements of Sub Array B is greater than half of the sum of all the elements in Array A will imply that the rest of the elements (Sub Array C) will be smaller than Sub Array B, using this logic the solution will add elements into Sub Array B and stop when the total sum of the elements in Sub Array B is gretaer than half of the sum of all the elements in Array A \n",
    "     </left><br>    \n",
    "     "
   ]
  },
  {
   "cell_type": "code",
   "execution_count": 46,
   "id": "7aae337e",
   "metadata": {},
   "outputs": [],
   "source": [
    "def min_lenght_2_arrays_version_2(arr):\n",
    "    start_time = time.time() \n",
    "    arr = sorted(arr, reverse=True)\n",
    "    mid_point = (sum(arr))/2\n",
    "    counter = 0\n",
    "    target_value = 0\n",
    "    for i in arr:    \n",
    "        if target_value > mid_point:\n",
    "            break\n",
    "        else:\n",
    "            counter += 1\n",
    "            target_value += i   \n",
    "    arr_subset_c = arr[0:counter]\n",
    "    arr_subset_d = arr[(counter):]                                                                  \n",
    "    end_time = time.time()\n",
    "    run_time = end_time - start_time\n",
    "    \n",
    "    if len(arr[0:counter]) > 10:\n",
    "    \n",
    "        return \"Solution 2 - The minimum length array whose sum of elements is greater than the rest of the elements is:\", len(arr_subset_c) , f\"Run time: {round(run_time, 6)} seconds\", \"The resulting array is saved in object arr_subset_c  \"\n",
    "\n",
    "    if len(arr[0:counter]) <= 10:\n",
    "\n",
    "        return \"Solution 2 -The minimum length array whose sum of elements is greater than the rest of the elements is:\", len(arr_subset_c)  , f\"Run time: {round(run_time, 6)} seconds\" ,\"The resulting array is saved in object arr_subset_c \",\"Array A:\", arr, \"Sub Array B:\" , arr_subset_c , \"Sub Array C:\" , arr_subset_d \n",
    "        \n",
    "    "
   ]
  },
  {
   "cell_type": "markdown",
   "id": "f33e074a",
   "metadata": {},
   "source": [
    "<p><left>    \n",
    "      <b> Testing Solution 2 in Simple Cases </b>      </left><br> "
   ]
  },
  {
   "cell_type": "code",
   "execution_count": 47,
   "id": "a6bb6465",
   "metadata": {},
   "outputs": [
    {
     "name": "stdout",
     "output_type": "stream",
     "text": [
      "Example 1 -  Simple array with  7  elements\n",
      "\n",
      "('Solution 2 -The minimum length array whose sum of elements is greater than the rest of the elements is:', 2, 'Run time: 0.0 seconds', 'The resulting array is saved in object arr_subset_c ', 'Array A:', [12, 6, 5, 4, 3, 2, 1], 'Sub Array B:', [12, 6], 'Sub Array C:', [5, 4, 3, 2, 1])\n",
      "\n",
      "Example 2 -  Simple array with  8  elements\n",
      "\n",
      "('Solution 2 -The minimum length array whose sum of elements is greater than the rest of the elements is:', 3, 'Run time: 0.0 seconds', 'The resulting array is saved in object arr_subset_c ', 'Array A:', [16, 8, 7, 6, 6, 4, 4, 1], 'Sub Array B:', [16, 8, 7], 'Sub Array C:', [6, 6, 4, 4, 1])\n",
      "\n",
      "Example 3 -  Simple array with  5  elements\n",
      "\n",
      "('Solution 2 -The minimum length array whose sum of elements is greater than the rest of the elements is:', 2, 'Run time: 0.0 seconds', 'The resulting array is saved in object arr_subset_c ', 'Array A:', [56, 31, 22, 15, 14], 'Sub Array B:', [56, 31], 'Sub Array C:', [22, 15, 14])\n"
     ]
    }
   ],
   "source": [
    "print(\"Example 1 - \", \"Simple array with \" , len(simple_array_1) ,\" elements\")\n",
    "print(\"\")\n",
    "print(min_lenght_2_arrays_version_2(simple_array_1))\n",
    "print(\"\")\n",
    "print(\"Example 2 - \", \"Simple array with \" , len(simple_array_2) ,\" elements\")\n",
    "print(\"\")\n",
    "print(min_lenght_2_arrays_version_2(simple_array_2))\n",
    "print(\"\")\n",
    "print(\"Example 3 - \", \"Simple array with \" , len(simple_array_3) ,\" elements\")\n",
    "print(\"\")\n",
    "print(min_lenght_2_arrays_version_2(simple_array_3))"
   ]
  },
  {
   "cell_type": "markdown",
   "id": "e912f69a",
   "metadata": {},
   "source": [
    "<p><left>    \n",
    "      <b> Testing Solution 2 in Complex Cases </b>      </left><br> "
   ]
  },
  {
   "cell_type": "code",
   "execution_count": 48,
   "id": "be1de0d7",
   "metadata": {},
   "outputs": [
    {
     "name": "stdout",
     "output_type": "stream",
     "text": [
      "Example 4 -  array with  30000  elements\n",
      "\n",
      "('Solution 2 - The minimum length array whose sum of elements is greater than the rest of the elements is:', 8820, 'Run time: 0.0 seconds', 'The resulting array is saved in object arr_subset_c  ')\n",
      "\n",
      "Example 5 -  array with  35000  elements\n",
      "\n",
      "('Solution 2 - The minimum length array whose sum of elements is greater than the rest of the elements is:', 10281, 'Run time: 0.012619 seconds', 'The resulting array is saved in object arr_subset_c  ')\n",
      "\n",
      "Example 6 -  array with  50000  elements\n",
      "\n",
      "('Solution 2 - The minimum length array whose sum of elements is greater than the rest of the elements is:', 14622, 'Run time: 0.016644 seconds', 'The resulting array is saved in object arr_subset_c  ')\n",
      "\n"
     ]
    }
   ],
   "source": [
    "print(\"Example 4 - \", \"array with \" , len(arr) ,\" elements\")\n",
    "print(\"\")\n",
    "print(min_lenght_2_arrays_version_2(arr))\n",
    "print(\"\")\n",
    "print(\"Example 5 - \", \"array with \" , len(arr2) ,\" elements\")\n",
    "print(\"\")\n",
    "print(min_lenght_2_arrays_version_2(arr2))\n",
    "print(\"\")\n",
    "print(\"Example 6 - \", \"array with \" , len(arr3) ,\" elements\")\n",
    "print(\"\")\n",
    "print(min_lenght_2_arrays_version_2(arr3))\n",
    "print(\"\")"
   ]
  },
  {
   "cell_type": "markdown",
   "id": "01c86586",
   "metadata": {},
   "source": [
    "<h3><left><b> Solution 2 Conclusion </b></left></h3>\n",
    "    \n",
    "<p><left> Solution 2 works correctly, and we can notice that the computation times for even the complex cases range between .01 and .02 seconds a very significant improvement in performance when compared to solution 1\n",
    "     </left></p>\n",
    "     "
   ]
  },
  {
   "cell_type": "markdown",
   "id": "8da60ae2",
   "metadata": {},
   "source": [
    "<br> <br>    \n",
    "<h2><center> 6. Performance Comparation</center></h2>\n",
    "\n"
   ]
  },
  {
   "cell_type": "markdown",
   "id": "26755c58",
   "metadata": {},
   "source": [
    "  <p><left> Solution 1 and Solution 2 will be executed consecutively on three complex cases, and their computation times will be compared to have an understanding of the difference in performance between the two solutions\n",
    "     </left><br>\n",
    "     \n",
    " \n",
    "     "
   ]
  },
  {
   "cell_type": "code",
   "execution_count": 49,
   "id": "338e9d73",
   "metadata": {},
   "outputs": [
    {
     "name": "stdout",
     "output_type": "stream",
     "text": [
      "Example 4 -  array with  30000  elements\n",
      "\n",
      "('Solution 1 -The minimum length array whose sum of elements is greater than the rest of the elements is:', 8820, 'Run time: 13.155358 seconds', 'The resulting array is saved in object arr_subset_a ')\n",
      "\n",
      "('Solution 2 - The minimum length array whose sum of elements is greater than the rest of the elements is:', 8820, 'Run time: 0.005229 seconds', 'The resulting array is saved in object arr_subset_c  ')\n",
      "\n",
      "Example 5 -  array with  35000  elements\n",
      "\n",
      "('Solution 1 -The minimum length array whose sum of elements is greater than the rest of the elements is:', 10281, 'Run time: 17.115891 seconds', 'The resulting array is saved in object arr_subset_a ')\n",
      "\n",
      "('Solution 2 - The minimum length array whose sum of elements is greater than the rest of the elements is:', 10281, 'Run time: 0.010852 seconds', 'The resulting array is saved in object arr_subset_c  ')\n",
      "\n",
      "Example 6 -  array with  50000  elements\n",
      "\n",
      "('Solution 1 -The minimum length array whose sum of elements is greater than the rest of the elements is:', 14622, 'Run time: 42.621385 seconds', 'The resulting array is saved in object arr_subset_a ')\n",
      "\n",
      "('Solution 2 - The minimum length array whose sum of elements is greater than the rest of the elements is:', 14622, 'Run time: 0.024349 seconds', 'The resulting array is saved in object arr_subset_c  ')\n",
      "\n"
     ]
    }
   ],
   "source": [
    "print(\"Example 4 - \", \"array with \" , len(arr) ,\" elements\")\n",
    "print(\"\")\n",
    "print(min_lenght_2_arrays_version_1(arr))\n",
    "print(\"\")\n",
    "print(min_lenght_2_arrays_version_2(arr))\n",
    "print(\"\")\n",
    "print(\"Example 5 - \", \"array with \" , len(arr2) ,\" elements\")\n",
    "print(\"\")\n",
    "print(min_lenght_2_arrays_version_1(arr2))\n",
    "print(\"\")\n",
    "print(min_lenght_2_arrays_version_2(arr2))\n",
    "print(\"\")\n",
    "print(\"Example 6 - \", \"array with \" , len(arr3) ,\" elements\")\n",
    "print(\"\")\n",
    "print(min_lenght_2_arrays_version_1(arr3))\n",
    "print(\"\")\n",
    "print(min_lenght_2_arrays_version_2(arr3))\n",
    "print(\"\")"
   ]
  },
  {
   "cell_type": "markdown",
   "id": "1e0fdddc",
   "metadata": {},
   "source": [
    "<h2><left><b> Example 4 Array with 30,000 Elements </b></left></h2>\n",
    "    \n",
    "<p><left> Solution 1 took 13.155358 seconds to obtain the result, Solution 2 took 0.005229 seconds to obtain the result.\n",
    "     </left></p>\n",
    "     "
   ]
  },
  {
   "cell_type": "code",
   "execution_count": 54,
   "id": "097f057b",
   "metadata": {},
   "outputs": [
    {
     "data": {
      "text/plain": [
       "2515.845859628992"
      ]
     },
     "execution_count": 54,
     "metadata": {},
     "output_type": "execute_result"
    }
   ],
   "source": [
    "13.155358/0.005229"
   ]
  },
  {
   "cell_type": "markdown",
   "id": "2c9e527d",
   "metadata": {},
   "source": [
    "<h3><left><b> Solution 2 was 2515.84 times faster than solution 1 </b></left></h3>\n",
    "    \n"
   ]
  },
  {
   "cell_type": "markdown",
   "id": "c1f5029c",
   "metadata": {},
   "source": [
    "<br><br><h2><left><b> Example 5 Array with 35,000 Elements </b></left></h2>\n",
    "    \n",
    "<p><left> Solution 1 took 17.115891 seconds to obtain the result, Solution 2 took  0.01085 seconds to obtain the result.\n",
    "     </left></p>\n",
    "     "
   ]
  },
  {
   "cell_type": "code",
   "execution_count": 56,
   "id": "1798dce2",
   "metadata": {},
   "outputs": [
    {
     "data": {
      "text/plain": [
       "1577.2107445632141"
      ]
     },
     "execution_count": 56,
     "metadata": {},
     "output_type": "execute_result"
    }
   ],
   "source": [
    "17.115891/0.010852"
   ]
  },
  {
   "cell_type": "markdown",
   "id": "c8852be8",
   "metadata": {},
   "source": [
    "<h3><left><b> Solution 2 was 1577.21 times faster than solution 1 </b></left></h3>\n",
    "    \n"
   ]
  },
  {
   "cell_type": "markdown",
   "id": "0a41eeea",
   "metadata": {},
   "source": [
    "<br> <br>  <h2><left><b> Example 6 Array with 50,000 Elements </b></left></h2>\n",
    "    \n",
    "<p><left> Solution 1 took 42.621385 seconds to obtain the result, Solution 2 took 0.024349 seconds to obtain the result.\n",
    "     </left></p>\n",
    "     "
   ]
  },
  {
   "cell_type": "code",
   "execution_count": 57,
   "id": "78781970",
   "metadata": {},
   "outputs": [
    {
     "data": {
      "text/plain": [
       "1750.4367735841306"
      ]
     },
     "execution_count": 57,
     "metadata": {},
     "output_type": "execute_result"
    }
   ],
   "source": [
    "42.621385/0.024349"
   ]
  },
  {
   "cell_type": "markdown",
   "id": "54731546",
   "metadata": {},
   "source": [
    "<h3><left><b> Solution 2 was 1750.43 times faster than solution 1 </b></left></h3>\n",
    "    \n"
   ]
  }
 ],
 "metadata": {
  "kernelspec": {
   "display_name": "Python 3 (ipykernel)",
   "language": "python",
   "name": "python3"
  },
  "language_info": {
   "codemirror_mode": {
    "name": "ipython",
    "version": 3
   },
   "file_extension": ".py",
   "mimetype": "text/x-python",
   "name": "python",
   "nbconvert_exporter": "python",
   "pygments_lexer": "ipython3",
   "version": "3.10.12"
  }
 },
 "nbformat": 4,
 "nbformat_minor": 5
}
